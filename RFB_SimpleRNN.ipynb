{
  "nbformat": 4,
  "nbformat_minor": 0,
  "metadata": {
    "colab": {
      "provenance": [],
      "machine_shape": "hm",
      "authorship_tag": "ABX9TyODihDSPSr8Cs665qo2IzZa",
      "include_colab_link": true
    },
    "kernelspec": {
      "name": "python3",
      "display_name": "Python 3"
    },
    "language_info": {
      "name": "python"
    },
    "gpuClass": "standard"
  },
  "cells": [
    {
      "cell_type": "markdown",
      "metadata": {
        "id": "view-in-github",
        "colab_type": "text"
      },
      "source": [
        "<a href=\"https://colab.research.google.com/github/sonbosung/Battery_SOH_Estimation/blob/master/RFB_SimpleRNN.ipynb\" target=\"_parent\"><img src=\"https://colab.research.google.com/assets/colab-badge.svg\" alt=\"Open In Colab\"/></a>"
      ]
    },
    {
      "cell_type": "code",
      "source": [
        "# 드라이브 마운트\n",
        "from google.colab import drive\n",
        "drive.mount('/content/drive')"
      ],
      "metadata": {
        "colab": {
          "base_uri": "https://localhost:8080/"
        },
        "id": "9XMxFK-TF3_u",
        "outputId": "760f89f2-9fc9-47cb-9dd0-e8a1e159a355"
      },
      "execution_count": 1,
      "outputs": [
        {
          "output_type": "stream",
          "name": "stdout",
          "text": [
            "Mounted at /content/drive\n"
          ]
        }
      ]
    },
    {
      "cell_type": "code",
      "source": [
        "# 피클파일 복사\n",
        "!cp \"/content/drive/MyDrive/data/battery_data.pkl\" \"/content/battery_data.pkl\""
      ],
      "metadata": {
        "id": "WVd8Ia8WF6HF"
      },
      "execution_count": 2,
      "outputs": []
    },
    {
      "cell_type": "code",
      "execution_count": 3,
      "metadata": {
        "colab": {
          "base_uri": "https://localhost:8080/"
        },
        "id": "OKY3CJ4yFzdl",
        "outputId": "70142660-3ce7-447e-e0b4-7fbc4f9bc62f"
      },
      "outputs": [
        {
          "output_type": "execute_result",
          "data": {
            "text/plain": [
              "<function BufferedReader.close>"
            ]
          },
          "metadata": {},
          "execution_count": 3
        }
      ],
      "source": [
        "# 피클파일 오픈\n",
        "import pandas as pd\n",
        "import pickle\n",
        "f = open(\"battery_data.pkl\", \"rb\")\n",
        "df = pickle.load(f)\n",
        "f.close"
      ]
    },
    {
      "cell_type": "code",
      "source": [
        "# 잘 불러와졌는지 확인\n",
        "df"
      ],
      "metadata": {
        "colab": {
          "base_uri": "https://localhost:8080/",
          "height": 485
        },
        "id": "SwLn1meuGbN7",
        "outputId": "0a8a6a30-293f-41f2-a584-044d13943982"
      },
      "execution_count": 4,
      "outputs": [
        {
          "output_type": "execute_result",
          "data": {
            "text/plain": [
              "        단계_번호     인덱스  사이클_번호     전류(A)     전압(V)  보조전압1(V)  보조전압2(V)  \\\n",
              "0           1       1       1  0.479619  1.173039         0         0   \n",
              "1           1       2       1  0.479619  1.180239         0         0   \n",
              "2           1       3       1  0.479557  1.183150         0         0   \n",
              "3           1       4       1  0.479588  1.184682         0         0   \n",
              "4           1       5       1  0.479588  1.185754         0         0   \n",
              "...       ...     ...     ...       ...       ...       ...       ...   \n",
              "262402      2  262403     510 -0.479806  0.868481         0         0   \n",
              "262403      2  262404     510 -0.479806  0.820530         0         0   \n",
              "262404      2  262405     510 -0.479775  0.763080         0         0   \n",
              "262405      2  262406     510 -0.479775  0.699503         0         0   \n",
              "262406      3  262407     510  0.000000  1.217313         0         0   \n",
              "\n",
              "        보조전압3(V)  온도('C)    OCP(V)     파워(W)   부하(Ohm)  누적_용량(Ah)  절대값_용량(Ah)  \\\n",
              "0              0       0  1.173039  0.562612  2.445772   0.000133    0.000133   \n",
              "1              0       0  1.173039  0.566065  2.460784   0.000266    0.000266   \n",
              "2              0       0  1.173039  0.567388  2.467173   0.000400    0.000400   \n",
              "3              0       0  1.173039  0.568159  2.470208   0.000533    0.000533   \n",
              "4              0       0  1.173039  0.568674  2.472444   0.000666    0.000666   \n",
              "...          ...     ...       ...       ...       ...        ...         ...   \n",
              "262402         0       0  1.380010 -0.416702 -1.810067   0.440094    0.023989   \n",
              "262403         0       0  1.380010 -0.393695 -1.710129   0.439961    0.024122   \n",
              "262404         0       0  1.380010 -0.366107 -1.590497   0.439827    0.024256   \n",
              "262405         0       0  1.380010 -0.335604 -1.457982   0.439709    0.024374   \n",
              "262406         0       0  1.380010  0.000000  0.000000   0.439709    0.000000   \n",
              "\n",
              "       전류_범위  test_time  cycle_time  level_time  \n",
              "0         1A       1.00        1.00        1.00  \n",
              "1         1A       2.00        2.00        2.00  \n",
              "2         1A       3.00        3.00        3.00  \n",
              "3         1A       4.00        4.00        4.00  \n",
              "4         1A       5.00        5.00        5.00  \n",
              "...      ...        ...         ...         ...  \n",
              "262402    1A  261897.83      365.92      180.00  \n",
              "262403    1A  261898.83      366.92      181.00  \n",
              "262404    1A  261899.83      367.92      182.00  \n",
              "262405    1A  261900.72      368.81      182.89  \n",
              "262406    1A  261901.72      369.81        1.00  \n",
              "\n",
              "[262407 rows x 18 columns]"
            ],
            "text/html": [
              "\n",
              "  <div id=\"df-def32f8a-d964-47e3-9546-b1a690196d9c\">\n",
              "    <div class=\"colab-df-container\">\n",
              "      <div>\n",
              "<style scoped>\n",
              "    .dataframe tbody tr th:only-of-type {\n",
              "        vertical-align: middle;\n",
              "    }\n",
              "\n",
              "    .dataframe tbody tr th {\n",
              "        vertical-align: top;\n",
              "    }\n",
              "\n",
              "    .dataframe thead th {\n",
              "        text-align: right;\n",
              "    }\n",
              "</style>\n",
              "<table border=\"1\" class=\"dataframe\">\n",
              "  <thead>\n",
              "    <tr style=\"text-align: right;\">\n",
              "      <th></th>\n",
              "      <th>단계_번호</th>\n",
              "      <th>인덱스</th>\n",
              "      <th>사이클_번호</th>\n",
              "      <th>전류(A)</th>\n",
              "      <th>전압(V)</th>\n",
              "      <th>보조전압1(V)</th>\n",
              "      <th>보조전압2(V)</th>\n",
              "      <th>보조전압3(V)</th>\n",
              "      <th>온도('C)</th>\n",
              "      <th>OCP(V)</th>\n",
              "      <th>파워(W)</th>\n",
              "      <th>부하(Ohm)</th>\n",
              "      <th>누적_용량(Ah)</th>\n",
              "      <th>절대값_용량(Ah)</th>\n",
              "      <th>전류_범위</th>\n",
              "      <th>test_time</th>\n",
              "      <th>cycle_time</th>\n",
              "      <th>level_time</th>\n",
              "    </tr>\n",
              "  </thead>\n",
              "  <tbody>\n",
              "    <tr>\n",
              "      <th>0</th>\n",
              "      <td>1</td>\n",
              "      <td>1</td>\n",
              "      <td>1</td>\n",
              "      <td>0.479619</td>\n",
              "      <td>1.173039</td>\n",
              "      <td>0</td>\n",
              "      <td>0</td>\n",
              "      <td>0</td>\n",
              "      <td>0</td>\n",
              "      <td>1.173039</td>\n",
              "      <td>0.562612</td>\n",
              "      <td>2.445772</td>\n",
              "      <td>0.000133</td>\n",
              "      <td>0.000133</td>\n",
              "      <td>1A</td>\n",
              "      <td>1.00</td>\n",
              "      <td>1.00</td>\n",
              "      <td>1.00</td>\n",
              "    </tr>\n",
              "    <tr>\n",
              "      <th>1</th>\n",
              "      <td>1</td>\n",
              "      <td>2</td>\n",
              "      <td>1</td>\n",
              "      <td>0.479619</td>\n",
              "      <td>1.180239</td>\n",
              "      <td>0</td>\n",
              "      <td>0</td>\n",
              "      <td>0</td>\n",
              "      <td>0</td>\n",
              "      <td>1.173039</td>\n",
              "      <td>0.566065</td>\n",
              "      <td>2.460784</td>\n",
              "      <td>0.000266</td>\n",
              "      <td>0.000266</td>\n",
              "      <td>1A</td>\n",
              "      <td>2.00</td>\n",
              "      <td>2.00</td>\n",
              "      <td>2.00</td>\n",
              "    </tr>\n",
              "    <tr>\n",
              "      <th>2</th>\n",
              "      <td>1</td>\n",
              "      <td>3</td>\n",
              "      <td>1</td>\n",
              "      <td>0.479557</td>\n",
              "      <td>1.183150</td>\n",
              "      <td>0</td>\n",
              "      <td>0</td>\n",
              "      <td>0</td>\n",
              "      <td>0</td>\n",
              "      <td>1.173039</td>\n",
              "      <td>0.567388</td>\n",
              "      <td>2.467173</td>\n",
              "      <td>0.000400</td>\n",
              "      <td>0.000400</td>\n",
              "      <td>1A</td>\n",
              "      <td>3.00</td>\n",
              "      <td>3.00</td>\n",
              "      <td>3.00</td>\n",
              "    </tr>\n",
              "    <tr>\n",
              "      <th>3</th>\n",
              "      <td>1</td>\n",
              "      <td>4</td>\n",
              "      <td>1</td>\n",
              "      <td>0.479588</td>\n",
              "      <td>1.184682</td>\n",
              "      <td>0</td>\n",
              "      <td>0</td>\n",
              "      <td>0</td>\n",
              "      <td>0</td>\n",
              "      <td>1.173039</td>\n",
              "      <td>0.568159</td>\n",
              "      <td>2.470208</td>\n",
              "      <td>0.000533</td>\n",
              "      <td>0.000533</td>\n",
              "      <td>1A</td>\n",
              "      <td>4.00</td>\n",
              "      <td>4.00</td>\n",
              "      <td>4.00</td>\n",
              "    </tr>\n",
              "    <tr>\n",
              "      <th>4</th>\n",
              "      <td>1</td>\n",
              "      <td>5</td>\n",
              "      <td>1</td>\n",
              "      <td>0.479588</td>\n",
              "      <td>1.185754</td>\n",
              "      <td>0</td>\n",
              "      <td>0</td>\n",
              "      <td>0</td>\n",
              "      <td>0</td>\n",
              "      <td>1.173039</td>\n",
              "      <td>0.568674</td>\n",
              "      <td>2.472444</td>\n",
              "      <td>0.000666</td>\n",
              "      <td>0.000666</td>\n",
              "      <td>1A</td>\n",
              "      <td>5.00</td>\n",
              "      <td>5.00</td>\n",
              "      <td>5.00</td>\n",
              "    </tr>\n",
              "    <tr>\n",
              "      <th>...</th>\n",
              "      <td>...</td>\n",
              "      <td>...</td>\n",
              "      <td>...</td>\n",
              "      <td>...</td>\n",
              "      <td>...</td>\n",
              "      <td>...</td>\n",
              "      <td>...</td>\n",
              "      <td>...</td>\n",
              "      <td>...</td>\n",
              "      <td>...</td>\n",
              "      <td>...</td>\n",
              "      <td>...</td>\n",
              "      <td>...</td>\n",
              "      <td>...</td>\n",
              "      <td>...</td>\n",
              "      <td>...</td>\n",
              "      <td>...</td>\n",
              "      <td>...</td>\n",
              "    </tr>\n",
              "    <tr>\n",
              "      <th>262402</th>\n",
              "      <td>2</td>\n",
              "      <td>262403</td>\n",
              "      <td>510</td>\n",
              "      <td>-0.479806</td>\n",
              "      <td>0.868481</td>\n",
              "      <td>0</td>\n",
              "      <td>0</td>\n",
              "      <td>0</td>\n",
              "      <td>0</td>\n",
              "      <td>1.380010</td>\n",
              "      <td>-0.416702</td>\n",
              "      <td>-1.810067</td>\n",
              "      <td>0.440094</td>\n",
              "      <td>0.023989</td>\n",
              "      <td>1A</td>\n",
              "      <td>261897.83</td>\n",
              "      <td>365.92</td>\n",
              "      <td>180.00</td>\n",
              "    </tr>\n",
              "    <tr>\n",
              "      <th>262403</th>\n",
              "      <td>2</td>\n",
              "      <td>262404</td>\n",
              "      <td>510</td>\n",
              "      <td>-0.479806</td>\n",
              "      <td>0.820530</td>\n",
              "      <td>0</td>\n",
              "      <td>0</td>\n",
              "      <td>0</td>\n",
              "      <td>0</td>\n",
              "      <td>1.380010</td>\n",
              "      <td>-0.393695</td>\n",
              "      <td>-1.710129</td>\n",
              "      <td>0.439961</td>\n",
              "      <td>0.024122</td>\n",
              "      <td>1A</td>\n",
              "      <td>261898.83</td>\n",
              "      <td>366.92</td>\n",
              "      <td>181.00</td>\n",
              "    </tr>\n",
              "    <tr>\n",
              "      <th>262404</th>\n",
              "      <td>2</td>\n",
              "      <td>262405</td>\n",
              "      <td>510</td>\n",
              "      <td>-0.479775</td>\n",
              "      <td>0.763080</td>\n",
              "      <td>0</td>\n",
              "      <td>0</td>\n",
              "      <td>0</td>\n",
              "      <td>0</td>\n",
              "      <td>1.380010</td>\n",
              "      <td>-0.366107</td>\n",
              "      <td>-1.590497</td>\n",
              "      <td>0.439827</td>\n",
              "      <td>0.024256</td>\n",
              "      <td>1A</td>\n",
              "      <td>261899.83</td>\n",
              "      <td>367.92</td>\n",
              "      <td>182.00</td>\n",
              "    </tr>\n",
              "    <tr>\n",
              "      <th>262405</th>\n",
              "      <td>2</td>\n",
              "      <td>262406</td>\n",
              "      <td>510</td>\n",
              "      <td>-0.479775</td>\n",
              "      <td>0.699503</td>\n",
              "      <td>0</td>\n",
              "      <td>0</td>\n",
              "      <td>0</td>\n",
              "      <td>0</td>\n",
              "      <td>1.380010</td>\n",
              "      <td>-0.335604</td>\n",
              "      <td>-1.457982</td>\n",
              "      <td>0.439709</td>\n",
              "      <td>0.024374</td>\n",
              "      <td>1A</td>\n",
              "      <td>261900.72</td>\n",
              "      <td>368.81</td>\n",
              "      <td>182.89</td>\n",
              "    </tr>\n",
              "    <tr>\n",
              "      <th>262406</th>\n",
              "      <td>3</td>\n",
              "      <td>262407</td>\n",
              "      <td>510</td>\n",
              "      <td>0.000000</td>\n",
              "      <td>1.217313</td>\n",
              "      <td>0</td>\n",
              "      <td>0</td>\n",
              "      <td>0</td>\n",
              "      <td>0</td>\n",
              "      <td>1.380010</td>\n",
              "      <td>0.000000</td>\n",
              "      <td>0.000000</td>\n",
              "      <td>0.439709</td>\n",
              "      <td>0.000000</td>\n",
              "      <td>1A</td>\n",
              "      <td>261901.72</td>\n",
              "      <td>369.81</td>\n",
              "      <td>1.00</td>\n",
              "    </tr>\n",
              "  </tbody>\n",
              "</table>\n",
              "<p>262407 rows × 18 columns</p>\n",
              "</div>\n",
              "      <button class=\"colab-df-convert\" onclick=\"convertToInteractive('df-def32f8a-d964-47e3-9546-b1a690196d9c')\"\n",
              "              title=\"Convert this dataframe to an interactive table.\"\n",
              "              style=\"display:none;\">\n",
              "        \n",
              "  <svg xmlns=\"http://www.w3.org/2000/svg\" height=\"24px\"viewBox=\"0 0 24 24\"\n",
              "       width=\"24px\">\n",
              "    <path d=\"M0 0h24v24H0V0z\" fill=\"none\"/>\n",
              "    <path d=\"M18.56 5.44l.94 2.06.94-2.06 2.06-.94-2.06-.94-.94-2.06-.94 2.06-2.06.94zm-11 1L8.5 8.5l.94-2.06 2.06-.94-2.06-.94L8.5 2.5l-.94 2.06-2.06.94zm10 10l.94 2.06.94-2.06 2.06-.94-2.06-.94-.94-2.06-.94 2.06-2.06.94z\"/><path d=\"M17.41 7.96l-1.37-1.37c-.4-.4-.92-.59-1.43-.59-.52 0-1.04.2-1.43.59L10.3 9.45l-7.72 7.72c-.78.78-.78 2.05 0 2.83L4 21.41c.39.39.9.59 1.41.59.51 0 1.02-.2 1.41-.59l7.78-7.78 2.81-2.81c.8-.78.8-2.07 0-2.86zM5.41 20L4 18.59l7.72-7.72 1.47 1.35L5.41 20z\"/>\n",
              "  </svg>\n",
              "      </button>\n",
              "      \n",
              "  <style>\n",
              "    .colab-df-container {\n",
              "      display:flex;\n",
              "      flex-wrap:wrap;\n",
              "      gap: 12px;\n",
              "    }\n",
              "\n",
              "    .colab-df-convert {\n",
              "      background-color: #E8F0FE;\n",
              "      border: none;\n",
              "      border-radius: 50%;\n",
              "      cursor: pointer;\n",
              "      display: none;\n",
              "      fill: #1967D2;\n",
              "      height: 32px;\n",
              "      padding: 0 0 0 0;\n",
              "      width: 32px;\n",
              "    }\n",
              "\n",
              "    .colab-df-convert:hover {\n",
              "      background-color: #E2EBFA;\n",
              "      box-shadow: 0px 1px 2px rgba(60, 64, 67, 0.3), 0px 1px 3px 1px rgba(60, 64, 67, 0.15);\n",
              "      fill: #174EA6;\n",
              "    }\n",
              "\n",
              "    [theme=dark] .colab-df-convert {\n",
              "      background-color: #3B4455;\n",
              "      fill: #D2E3FC;\n",
              "    }\n",
              "\n",
              "    [theme=dark] .colab-df-convert:hover {\n",
              "      background-color: #434B5C;\n",
              "      box-shadow: 0px 1px 3px 1px rgba(0, 0, 0, 0.15);\n",
              "      filter: drop-shadow(0px 1px 2px rgba(0, 0, 0, 0.3));\n",
              "      fill: #FFFFFF;\n",
              "    }\n",
              "  </style>\n",
              "\n",
              "      <script>\n",
              "        const buttonEl =\n",
              "          document.querySelector('#df-def32f8a-d964-47e3-9546-b1a690196d9c button.colab-df-convert');\n",
              "        buttonEl.style.display =\n",
              "          google.colab.kernel.accessAllowed ? 'block' : 'none';\n",
              "\n",
              "        async function convertToInteractive(key) {\n",
              "          const element = document.querySelector('#df-def32f8a-d964-47e3-9546-b1a690196d9c');\n",
              "          const dataTable =\n",
              "            await google.colab.kernel.invokeFunction('convertToInteractive',\n",
              "                                                     [key], {});\n",
              "          if (!dataTable) return;\n",
              "\n",
              "          const docLinkHtml = 'Like what you see? Visit the ' +\n",
              "            '<a target=\"_blank\" href=https://colab.research.google.com/notebooks/data_table.ipynb>data table notebook</a>'\n",
              "            + ' to learn more about interactive tables.';\n",
              "          element.innerHTML = '';\n",
              "          dataTable['output_type'] = 'display_data';\n",
              "          await google.colab.output.renderOutput(dataTable, element);\n",
              "          const docLink = document.createElement('div');\n",
              "          docLink.innerHTML = docLinkHtml;\n",
              "          element.appendChild(docLink);\n",
              "        }\n",
              "      </script>\n",
              "    </div>\n",
              "  </div>\n",
              "  "
            ]
          },
          "metadata": {},
          "execution_count": 4
        }
      ]
    },
    {
      "cell_type": "code",
      "source": [
        "# df.to_excel('capstone.xlsx')"
      ],
      "metadata": {
        "id": "esllwyEiFDP_"
      },
      "execution_count": 5,
      "outputs": []
    },
    {
      "cell_type": "code",
      "source": [
        "# 각 충방전 사이클마다 충전한 용량과 방전된 용량이 얼마인지 계산\n",
        "total_cycles = df[\"사이클_번호\"].iloc[-1]\n",
        "charge_cap = []\n",
        "discharge_cap = []\n",
        "previous_charged_capacity = 0\n",
        "previous_discharged_capacity = 0\n",
        "\n",
        "for i in range(1, int(total_cycles+1)):\n",
        "  # print(i)\n",
        "  charge_df = df[(df[\"사이클_번호\"]==i)&(df[\"단계_번호\"]==1)][\"누적_용량(Ah)\"].to_list()\n",
        "  discharge_df = df[(df[\"사이클_번호\"]==i)&(df[\"단계_번호\"]==2)][\"누적_용량(Ah)\"].to_list()\n",
        "  charge_cap += [charge_df[-1] - previous_discharged_capacity]\n",
        "  previous_charged_capacity = charge_df[-1]\n",
        "  discharge_cap += [previous_charged_capacity - discharge_df[-1]]\n",
        "  previous_discharged_capacity = discharge_df[-1]\n",
        "  # print(charge_df[-1], discharge_df[-1])\n",
        "\n",
        "import matplotlib.pyplot as plt\n",
        "%matplotlib inline\n",
        "\n",
        "plt.plot(charge_cap[2:])\n",
        "plt.plot(discharge_cap[2:])\n",
        "plt.show()"
      ],
      "metadata": {
        "id": "lxmcswxYDNJ9",
        "colab": {
          "base_uri": "https://localhost:8080/",
          "height": 265
        },
        "outputId": "272ba773-d279-4d4b-8c88-69c34841f0f5"
      },
      "execution_count": 6,
      "outputs": [
        {
          "output_type": "display_data",
          "data": {
            "text/plain": [
              "<Figure size 432x288 with 1 Axes>"
            ],
            "image/png": "[encoded data removed]"
          },
          "metadata": {
            "needs_background": "light"
          }
        }
      ]
    },
    {
      "cell_type": "code",
      "source": [
        "# expected nominal capacity of the battery\n",
        "print(max(discharge_cap[20:60]))"
      ],
      "metadata": {
        "colab": {
          "base_uri": "https://localhost:8080/"
        },
        "id": "3gRDq0yC4iwZ",
        "outputId": "b7c6484f-23df-4253-d814-473d7100c4c6"
      },
      "execution_count": 7,
      "outputs": [
        {
          "output_type": "stream",
          "name": "stdout",
          "text": [
            "0.042750121215811815\n"
          ]
        }
      ]
    },
    {
      "cell_type": "code",
      "source": [
        "cycle_num = df[\"사이클_번호\"].to_list()\n",
        "cycle_cap = []\n",
        "for i in range(len(df)):\n",
        "  cycle_cap += [discharge_cap[cycle_num[i]-1]]"
      ],
      "metadata": {
        "id": "RlzdHzMMEUnI"
      },
      "execution_count": 8,
      "outputs": []
    },
    {
      "cell_type": "code",
      "source": [
        "print(len(cycle_cap))\n",
        "print(len(cycle_num))"
      ],
      "metadata": {
        "colab": {
          "base_uri": "https://localhost:8080/"
        },
        "id": "KNKtOxNmQwfI",
        "outputId": "c1bf9bce-8595-4098-9c8f-e5ca2b80dfb5"
      },
      "execution_count": 9,
      "outputs": [
        {
          "output_type": "stream",
          "name": "stdout",
          "text": [
            "262407\n",
            "262407\n"
          ]
        }
      ]
    },
    {
      "cell_type": "code",
      "source": [
        "df[\"cycle_capacity\"] = cycle_cap"
      ],
      "metadata": {
        "id": "z03MNE84gSvs"
      },
      "execution_count": 10,
      "outputs": []
    },
    {
      "cell_type": "code",
      "source": [
        "# get sequence length\n",
        "seq_len = []\n",
        "for cycle in range(1, 510+1):\n",
        "  cycle_len = len(df.loc[(df[\"사이클_번호\"]==cycle)&(df[\"단계_번호\"]==1)])\n",
        "  print(cycle_len)\n",
        "  seq_len += [cycle_len]"
      ],
      "metadata": {
        "id": "Yr73NK3iMsf5"
      },
      "execution_count": null,
      "outputs": []
    },
    {
      "cell_type": "code",
      "source": [
        "print(seq_len)"
      ],
      "metadata": {
        "id": "kv-QcCMUrmp3"
      },
      "execution_count": null,
      "outputs": []
    },
    {
      "cell_type": "code",
      "source": [
        "# train data, validation data, test data 생성\n",
        "# 510개의 train data 중 무작위 450개를 train data\n",
        "#                             30 개를 validation data\n",
        "#                             30 개를 test data로 설정\n"
      ],
      "metadata": {
        "id": "D_JK4irbTzDy"
      },
      "execution_count": 13,
      "outputs": []
    },
    {
      "cell_type": "code",
      "source": [
        "max_length = max(df[df[\"단계_번호\"]==1][\"사이클_번호\"].value_counts().to_list())\n",
        "print(max(df[df[\"단계_번호\"]==1][\"사이클_번호\"].value_counts().to_list()))\n",
        "print(max(df[df[\"단계_번호\"]==2][\"사이클_번호\"].value_counts().to_list()))"
      ],
      "metadata": {
        "id": "1R0aajaghKoO",
        "colab": {
          "base_uri": "https://localhost:8080/"
        },
        "outputId": "8f84ea74-247a-4918-a616-0310df8be8c4"
      },
      "execution_count": 14,
      "outputs": [
        {
          "output_type": "stream",
          "name": "stdout",
          "text": [
            "585\n",
            "321\n"
          ]
        }
      ]
    },
    {
      "cell_type": "code",
      "source": [
        "# padding\n",
        "import numpy as np\n",
        "data_shape = (total_cycles,max_length,2)\n",
        "X_train = np.zeros(shape=data_shape, dtype=np.float32)\n",
        "y_train = np.array(discharge_cap, dtype=np.float32)\n",
        "input_shape=(585, 2)\n",
        "for cycle in range(1, total_cycles+1):\n",
        "  vols, curs = [], []\n",
        "  vols += (df.loc[(df[\"사이클_번호\"]==cycle)&(df[\"단계_번호\"]==1)][\"전압(V)\"].to_list())\n",
        "  curs += (df.loc[(df[\"사이클_번호\"]==cycle)&(df[\"단계_번호\"]==1)][\"전류(A)\"].to_list())\n",
        "  vols += ([0]*(max_length - seq_len[cycle - 1]))\n",
        "  curs += ([0]*(max_length - seq_len[cycle - 1]))\n",
        "  vols = np.array(vols, dtype=np.float32)\n",
        "  curs = np.array(curs, dtype=np.float32)\n",
        "  X_train[cycle-1, :, 0] = vols\n",
        "  X_train[cycle-1, :, 1] = curs"
      ],
      "metadata": {
        "id": "8VrA0B7ktS_4"
      },
      "execution_count": 15,
      "outputs": []
    },
    {
      "cell_type": "code",
      "source": [
        "# Data Normalization\n",
        "# gaussian normalization 사용\n",
        "v_mean, v_std = np.mean(X_train[:,:,0]), np.std(X_train[:,:,0])\n",
        "i_mean, i_std = np.mean(X_train[:,:,1]), np.std(X_train[:,:,1])\n",
        "\n",
        "X_train[:,:,0] = (X_train[:,:,0] - v_mean)/v_std\n",
        "X_train[:,:,1] = (X_train[:,:,1] - i_mean)/i_std"
      ],
      "metadata": {
        "id": "Gx47pINHeoEH"
      },
      "execution_count": 16,
      "outputs": []
    },
    {
      "cell_type": "code",
      "source": [
        "print(X_train)\n",
        "print(y_train)\n",
        "print(\"{}, {}\".format(X_train.shape, y_train.shape))"
      ],
      "metadata": {
        "id": "FZP69QCuLWi6"
      },
      "execution_count": null,
      "outputs": []
    },
    {
      "cell_type": "code",
      "source": [
        "import random\n",
        "\n",
        "def data_generator(X_train, y_train):\n",
        "  idx = np.random.shuffle(np.arange(510))\n",
        "  X_train, y_train = X_train[idx,:,:].reshape(-1,585,2), y_train[idx].reshape(-1)\n",
        "  X_tr, y_tr = X_train[0:450,:,:], y_train[0:450]\n",
        "  X_val, y_val = X_train[450:480,:,:], y_train[450:480]\n",
        "  X_te, y_te = X_train[480:510,:,:], y_train[480:510]\n",
        "  return (X_tr, y_tr, X_val, y_val, X_te, y_te)"
      ],
      "metadata": {
        "id": "l-gZ-TIgMHmi"
      },
      "execution_count": 18,
      "outputs": []
    },
    {
      "cell_type": "code",
      "source": [
        "(X_tr, y_tr, X_val, y_val, X_te, y_te) = data_generator(X_train, y_train)"
      ],
      "metadata": {
        "id": "OXPU4V_aKrou"
      },
      "execution_count": 19,
      "outputs": []
    },
    {
      "cell_type": "code",
      "source": [
        "print(X_tr.shape, y_tr.shape, X_val.shape, y_val.shape, X_te.shape, y_te.shape)"
      ],
      "metadata": {
        "colab": {
          "base_uri": "https://localhost:8080/"
        },
        "id": "Ci4BE-QNQ_8N",
        "outputId": "364cbd9b-9749-46d8-b8c3-c0801307347b"
      },
      "execution_count": 20,
      "outputs": [
        {
          "output_type": "stream",
          "name": "stdout",
          "text": [
            "(450, 585, 2) (450,) (30, 585, 2) (30,) (30, 585, 2) (30,)\n"
          ]
        }
      ]
    },
    {
      "cell_type": "code",
      "source": [
        "# 모델 정의\n",
        "import tensorflow as tf\n",
        "\n",
        "model = tf.keras.models.Sequential([\n",
        "    tf.keras.layers.SimpleRNN(8, input_dim=2, input_length=max_length),\n",
        "    tf.keras.layers.Dropout(0.3),\n",
        "    tf.keras.layers.Dense(10),\n",
        "    tf.keras.layers.Dropout(0.3),\n",
        "    tf.keras.layers.Dense(1)\n",
        "])\n",
        "\n",
        "model.compile(optimizer=\"adam\", loss=\"mse\")\n",
        "model.summary()"
      ],
      "metadata": {
        "id": "23dImsI5guIj",
        "colab": {
          "base_uri": "https://localhost:8080/"
        },
        "outputId": "eb64d7be-9302-4758-85f9-64718c3edab9"
      },
      "execution_count": 23,
      "outputs": [
        {
          "output_type": "stream",
          "name": "stdout",
          "text": [
            "Model: \"sequential_1\"\n",
            "_________________________________________________________________\n",
            " Layer (type)                Output Shape              Param #   \n",
            "=================================================================\n",
            " simple_rnn_1 (SimpleRNN)    (None, 8)                 88        \n",
            "                                                                 \n",
            " dropout_2 (Dropout)         (None, 8)                 0         \n",
            "                                                                 \n",
            " dense_2 (Dense)             (None, 10)                90        \n",
            "                                                                 \n",
            " dropout_3 (Dropout)         (None, 10)                0         \n",
            "                                                                 \n",
            " dense_3 (Dense)             (None, 1)                 11        \n",
            "                                                                 \n",
            "=================================================================\n",
            "Total params: 189\n",
            "Trainable params: 189\n",
            "Non-trainable params: 0\n",
            "_________________________________________________________________\n"
          ]
        }
      ]
    },
    {
      "cell_type": "code",
      "source": [
        "history = model.fit(x=X_tr, y=y_tr, epochs=50, batch_size=16, validation_data=(X_val, y_val),\n",
        "                 shuffle=True, verbose=1)"
      ],
      "metadata": {
        "colab": {
          "base_uri": "https://localhost:8080/"
        },
        "id": "8DamzXaogxdv",
        "outputId": "b3d1f47f-4048-4159-a3a6-e01b6820627f"
      },
      "execution_count": 24,
      "outputs": [
        {
          "output_type": "stream",
          "name": "stdout",
          "text": [
            "Epoch 1/50\n",
            "29/29 [==============================] - 3s 70ms/step - loss: 0.4142 - val_loss: 0.0083\n",
            "Epoch 2/50\n",
            "29/29 [==============================] - 3s 90ms/step - loss: 0.0601 - val_loss: 1.0130e-04\n",
            "Epoch 3/50\n",
            "29/29 [==============================] - 2s 65ms/step - loss: 0.0465 - val_loss: 2.3795e-04\n",
            "Epoch 4/50\n",
            "29/29 [==============================] - 2s 66ms/step - loss: 0.0297 - val_loss: 3.7210e-04\n",
            "Epoch 5/50\n",
            "29/29 [==============================] - 2s 65ms/step - loss: 0.0284 - val_loss: 1.7410e-05\n",
            "Epoch 6/50\n",
            "29/29 [==============================] - 2s 68ms/step - loss: 0.0197 - val_loss: 4.9338e-07\n",
            "Epoch 7/50\n",
            "29/29 [==============================] - 2s 76ms/step - loss: 0.0155 - val_loss: 3.7169e-05\n",
            "Epoch 8/50\n",
            "29/29 [==============================] - 2s 74ms/step - loss: 0.0133 - val_loss: 1.9566e-05\n",
            "Epoch 9/50\n",
            "29/29 [==============================] - 2s 78ms/step - loss: 0.0140 - val_loss: 1.2059e-04\n",
            "Epoch 10/50\n",
            "29/29 [==============================] - 2s 65ms/step - loss: 0.0127 - val_loss: 6.0760e-05\n",
            "Epoch 11/50\n",
            "29/29 [==============================] - 2s 64ms/step - loss: 0.0122 - val_loss: 6.1076e-05\n",
            "Epoch 12/50\n",
            "29/29 [==============================] - 2s 70ms/step - loss: 0.0104 - val_loss: 7.0493e-05\n",
            "Epoch 13/50\n",
            "29/29 [==============================] - 2s 69ms/step - loss: 0.0081 - val_loss: 2.5130e-05\n",
            "Epoch 14/50\n",
            "29/29 [==============================] - 2s 63ms/step - loss: 0.0074 - val_loss: 1.1550e-04\n",
            "Epoch 15/50\n",
            "29/29 [==============================] - 2s 83ms/step - loss: 0.0071 - val_loss: 5.1519e-05\n",
            "Epoch 16/50\n",
            "29/29 [==============================] - 3s 110ms/step - loss: 0.0067 - val_loss: 6.6700e-06\n",
            "Epoch 17/50\n",
            "29/29 [==============================] - 2s 79ms/step - loss: 0.0064 - val_loss: 6.9090e-06\n",
            "Epoch 18/50\n",
            "29/29 [==============================] - 2s 79ms/step - loss: 0.0058 - val_loss: 1.4628e-04\n",
            "Epoch 19/50\n",
            "29/29 [==============================] - 2s 67ms/step - loss: 0.0055 - val_loss: 1.8872e-05\n",
            "Epoch 20/50\n",
            "29/29 [==============================] - 2s 70ms/step - loss: 0.0062 - val_loss: 5.6675e-05\n",
            "Epoch 21/50\n",
            "29/29 [==============================] - 2s 73ms/step - loss: 0.0064 - val_loss: 9.1685e-05\n",
            "Epoch 22/50\n",
            "29/29 [==============================] - 2s 77ms/step - loss: 0.0049 - val_loss: 1.6820e-04\n",
            "Epoch 23/50\n",
            "29/29 [==============================] - 2s 75ms/step - loss: 0.0042 - val_loss: 2.4505e-05\n",
            "Epoch 24/50\n",
            "29/29 [==============================] - 2s 73ms/step - loss: 0.0035 - val_loss: 1.5493e-04\n",
            "Epoch 25/50\n",
            "29/29 [==============================] - 2s 78ms/step - loss: 0.0036 - val_loss: 7.9015e-05\n",
            "Epoch 26/50\n",
            "29/29 [==============================] - 2s 74ms/step - loss: 0.0029 - val_loss: 1.4367e-04\n",
            "Epoch 27/50\n",
            "29/29 [==============================] - 2s 71ms/step - loss: 0.0028 - val_loss: 6.2057e-05\n",
            "Epoch 28/50\n",
            "29/29 [==============================] - 2s 70ms/step - loss: 0.0028 - val_loss: 7.8616e-05\n",
            "Epoch 29/50\n",
            "29/29 [==============================] - 2s 77ms/step - loss: 0.0029 - val_loss: 1.3209e-05\n",
            "Epoch 30/50\n",
            "29/29 [==============================] - 2s 71ms/step - loss: 0.0043 - val_loss: 8.8521e-05\n",
            "Epoch 31/50\n",
            "29/29 [==============================] - 2s 63ms/step - loss: 0.0030 - val_loss: 1.8019e-04\n",
            "Epoch 32/50\n",
            "29/29 [==============================] - 2s 67ms/step - loss: 0.0026 - val_loss: 4.2258e-05\n",
            "Epoch 33/50\n",
            "29/29 [==============================] - 2s 69ms/step - loss: 0.0036 - val_loss: 1.2613e-04\n",
            "Epoch 34/50\n",
            "29/29 [==============================] - 2s 65ms/step - loss: 0.0020 - val_loss: 1.1424e-04\n",
            "Epoch 35/50\n",
            "29/29 [==============================] - 2s 66ms/step - loss: 0.0021 - val_loss: 5.5096e-05\n",
            "Epoch 36/50\n",
            "29/29 [==============================] - 2s 66ms/step - loss: 0.0017 - val_loss: 1.0401e-04\n",
            "Epoch 37/50\n",
            "29/29 [==============================] - 2s 67ms/step - loss: 0.0020 - val_loss: 1.1202e-04\n",
            "Epoch 38/50\n",
            "29/29 [==============================] - 2s 65ms/step - loss: 0.0017 - val_loss: 5.9200e-05\n",
            "Epoch 39/50\n",
            "29/29 [==============================] - 2s 70ms/step - loss: 0.0015 - val_loss: 7.4569e-05\n",
            "Epoch 40/50\n",
            "29/29 [==============================] - 2s 64ms/step - loss: 0.0015 - val_loss: 5.1942e-05\n",
            "Epoch 41/50\n",
            "29/29 [==============================] - 2s 76ms/step - loss: 0.0017 - val_loss: 1.0245e-04\n",
            "Epoch 42/50\n",
            "29/29 [==============================] - 2s 86ms/step - loss: 0.0013 - val_loss: 1.5602e-04\n",
            "Epoch 43/50\n",
            "29/29 [==============================] - 2s 60ms/step - loss: 0.0013 - val_loss: 6.4963e-05\n",
            "Epoch 44/50\n",
            "29/29 [==============================] - 2s 66ms/step - loss: 0.0012 - val_loss: 2.7126e-05\n",
            "Epoch 45/50\n",
            "29/29 [==============================] - 2s 68ms/step - loss: 0.0013 - val_loss: 8.5927e-05\n",
            "Epoch 46/50\n",
            "29/29 [==============================] - 2s 67ms/step - loss: 0.0011 - val_loss: 5.1808e-05\n",
            "Epoch 47/50\n",
            "29/29 [==============================] - 2s 66ms/step - loss: 0.0016 - val_loss: 1.0428e-04\n",
            "Epoch 48/50\n",
            "29/29 [==============================] - 2s 68ms/step - loss: 8.7189e-04 - val_loss: 5.8065e-05\n",
            "Epoch 49/50\n",
            "29/29 [==============================] - 2s 66ms/step - loss: 9.2349e-04 - val_loss: 5.7980e-05\n",
            "Epoch 50/50\n",
            "29/29 [==============================] - 2s 66ms/step - loss: 7.9461e-04 - val_loss: 5.9154e-05\n"
          ]
        }
      ]
    },
    {
      "cell_type": "code",
      "source": [
        "score = model.evaluate(X_te, y_te, verbose=1)"
      ],
      "metadata": {
        "colab": {
          "base_uri": "https://localhost:8080/"
        },
        "id": "qchVeI4DhHnS",
        "outputId": "7836de54-1478-4eb9-d29f-827a8fd07344"
      },
      "execution_count": 25,
      "outputs": [
        {
          "output_type": "stream",
          "name": "stdout",
          "text": [
            "1/1 [==============================] - 0s 33ms/step - loss: 7.3702e-05\n"
          ]
        }
      ]
    },
    {
      "cell_type": "code",
      "source": [
        "print(score)"
      ],
      "metadata": {
        "colab": {
          "base_uri": "https://localhost:8080/"
        },
        "id": "7i8kdZNorEk4",
        "outputId": "ecab19b2-a347-4de3-cb1b-544af4773a3b"
      },
      "execution_count": 26,
      "outputs": [
        {
          "output_type": "stream",
          "name": "stdout",
          "text": [
            "7.370188541244715e-05\n"
          ]
        }
      ]
    },
    {
      "cell_type": "code",
      "source": [
        "plt.plot(history.history[\"loss\"])\n",
        "plt.xticks(np.arange(0,51,5))\n",
        "plt.xlabel(\"epochs\")\n",
        "plt.ylabel(\"validation_loss\")\n",
        "plt.title(\"Simple RNN\")"
      ],
      "metadata": {
        "colab": {
          "base_uri": "https://localhost:8080/",
          "height": 313
        },
        "id": "POd-2qi1rQ6s",
        "outputId": "db683342-9fb7-47ec-a063-05b7605877ee"
      },
      "execution_count": 31,
      "outputs": [
        {
          "output_type": "execute_result",
          "data": {
            "text/plain": [
              "Text(0.5, 1.0, 'Simple RNN')"
            ]
          },
          "metadata": {},
          "execution_count": 31
        },
        {
          "output_type": "display_data",
          "data": {
            "text/plain": [
              "<Figure size 432x288 with 1 Axes>"
            ],
            "image/png": "[encoded data removed]"
          },
          "metadata": {
            "needs_background": "light"
          }
        }
      ]
    }
  ]
}